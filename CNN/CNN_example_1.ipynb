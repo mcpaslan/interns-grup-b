{
 "cells": [
  {
   "cell_type": "code",
   "execution_count": 1,
   "id": "c0be6007-3e0d-47c6-a170-e39dbd2ab4ff",
   "metadata": {},
   "outputs": [
    {
     "name": "stdout",
     "output_type": "stream",
     "text": [
      "Requirement already satisfied: tensorflow in c:\\users\\masla\\anaconda3\\envs\\tf_env_2\\lib\\site-packages (2.13.0)\n",
      "Requirement already satisfied: tensorflow-intel==2.13.0 in c:\\users\\masla\\anaconda3\\envs\\tf_env_2\\lib\\site-packages (from tensorflow) (2.13.0)\n",
      "Requirement already satisfied: absl-py>=1.0.0 in c:\\users\\masla\\anaconda3\\envs\\tf_env_2\\lib\\site-packages (from tensorflow-intel==2.13.0->tensorflow) (2.3.1)\n",
      "Requirement already satisfied: astunparse>=1.6.0 in c:\\users\\masla\\anaconda3\\envs\\tf_env_2\\lib\\site-packages (from tensorflow-intel==2.13.0->tensorflow) (1.6.3)\n",
      "Requirement already satisfied: flatbuffers>=23.1.21 in c:\\users\\masla\\anaconda3\\envs\\tf_env_2\\lib\\site-packages (from tensorflow-intel==2.13.0->tensorflow) (25.2.10)\n",
      "Requirement already satisfied: gast<=0.4.0,>=0.2.1 in c:\\users\\masla\\anaconda3\\envs\\tf_env_2\\lib\\site-packages (from tensorflow-intel==2.13.0->tensorflow) (0.4.0)\n",
      "Requirement already satisfied: google-pasta>=0.1.1 in c:\\users\\masla\\anaconda3\\envs\\tf_env_2\\lib\\site-packages (from tensorflow-intel==2.13.0->tensorflow) (0.2.0)\n",
      "Requirement already satisfied: h5py>=2.9.0 in c:\\users\\masla\\anaconda3\\envs\\tf_env_2\\lib\\site-packages (from tensorflow-intel==2.13.0->tensorflow) (3.11.0)\n",
      "Requirement already satisfied: libclang>=13.0.0 in c:\\users\\masla\\anaconda3\\envs\\tf_env_2\\lib\\site-packages (from tensorflow-intel==2.13.0->tensorflow) (18.1.1)\n",
      "Requirement already satisfied: numpy<=1.24.3,>=1.22 in c:\\users\\masla\\anaconda3\\envs\\tf_env_2\\lib\\site-packages (from tensorflow-intel==2.13.0->tensorflow) (1.24.3)\n",
      "Requirement already satisfied: opt-einsum>=2.3.2 in c:\\users\\masla\\anaconda3\\envs\\tf_env_2\\lib\\site-packages (from tensorflow-intel==2.13.0->tensorflow) (3.4.0)\n",
      "Requirement already satisfied: packaging in c:\\users\\masla\\anaconda3\\envs\\tf_env_2\\lib\\site-packages (from tensorflow-intel==2.13.0->tensorflow) (24.1)\n",
      "Requirement already satisfied: protobuf!=4.21.0,!=4.21.1,!=4.21.2,!=4.21.3,!=4.21.4,!=4.21.5,<5.0.0dev,>=3.20.3 in c:\\users\\masla\\anaconda3\\envs\\tf_env_2\\lib\\site-packages (from tensorflow-intel==2.13.0->tensorflow) (4.25.8)\n",
      "Requirement already satisfied: setuptools in c:\\users\\masla\\anaconda3\\envs\\tf_env_2\\lib\\site-packages (from tensorflow-intel==2.13.0->tensorflow) (75.1.0)\n",
      "Requirement already satisfied: six>=1.12.0 in c:\\users\\masla\\anaconda3\\envs\\tf_env_2\\lib\\site-packages (from tensorflow-intel==2.13.0->tensorflow) (1.16.0)\n",
      "Requirement already satisfied: termcolor>=1.1.0 in c:\\users\\masla\\anaconda3\\envs\\tf_env_2\\lib\\site-packages (from tensorflow-intel==2.13.0->tensorflow) (2.4.0)\n",
      "Requirement already satisfied: typing-extensions<4.6.0,>=3.6.6 in c:\\users\\masla\\anaconda3\\envs\\tf_env_2\\lib\\site-packages (from tensorflow-intel==2.13.0->tensorflow) (4.5.0)\n",
      "Requirement already satisfied: wrapt>=1.11.0 in c:\\users\\masla\\anaconda3\\envs\\tf_env_2\\lib\\site-packages (from tensorflow-intel==2.13.0->tensorflow) (1.17.2)\n",
      "Requirement already satisfied: grpcio<2.0,>=1.24.3 in c:\\users\\masla\\anaconda3\\envs\\tf_env_2\\lib\\site-packages (from tensorflow-intel==2.13.0->tensorflow) (1.70.0)\n",
      "Requirement already satisfied: tensorboard<2.14,>=2.13 in c:\\users\\masla\\anaconda3\\envs\\tf_env_2\\lib\\site-packages (from tensorflow-intel==2.13.0->tensorflow) (2.13.0)\n",
      "Requirement already satisfied: tensorflow-estimator<2.14,>=2.13.0 in c:\\users\\masla\\anaconda3\\envs\\tf_env_2\\lib\\site-packages (from tensorflow-intel==2.13.0->tensorflow) (2.13.0)\n",
      "Requirement already satisfied: keras<2.14,>=2.13.1 in c:\\users\\masla\\anaconda3\\envs\\tf_env_2\\lib\\site-packages (from tensorflow-intel==2.13.0->tensorflow) (2.13.1)\n",
      "Requirement already satisfied: tensorflow-io-gcs-filesystem>=0.23.1 in c:\\users\\masla\\anaconda3\\envs\\tf_env_2\\lib\\site-packages (from tensorflow-intel==2.13.0->tensorflow) (0.31.0)\n",
      "Requirement already satisfied: wheel<1.0,>=0.23.0 in c:\\users\\masla\\anaconda3\\envs\\tf_env_2\\lib\\site-packages (from astunparse>=1.6.0->tensorflow-intel==2.13.0->tensorflow) (0.44.0)\n",
      "Requirement already satisfied: google-auth<3,>=1.6.3 in c:\\users\\masla\\anaconda3\\envs\\tf_env_2\\lib\\site-packages (from tensorboard<2.14,>=2.13->tensorflow-intel==2.13.0->tensorflow) (2.40.3)\n",
      "Requirement already satisfied: google-auth-oauthlib<1.1,>=0.5 in c:\\users\\masla\\anaconda3\\envs\\tf_env_2\\lib\\site-packages (from tensorboard<2.14,>=2.13->tensorflow-intel==2.13.0->tensorflow) (1.0.0)\n",
      "Requirement already satisfied: markdown>=2.6.8 in c:\\users\\masla\\anaconda3\\envs\\tf_env_2\\lib\\site-packages (from tensorboard<2.14,>=2.13->tensorflow-intel==2.13.0->tensorflow) (3.7)\n",
      "Requirement already satisfied: requests<3,>=2.21.0 in c:\\users\\masla\\anaconda3\\envs\\tf_env_2\\lib\\site-packages (from tensorboard<2.14,>=2.13->tensorflow-intel==2.13.0->tensorflow) (2.32.3)\n",
      "Requirement already satisfied: tensorboard-data-server<0.8.0,>=0.7.0 in c:\\users\\masla\\anaconda3\\envs\\tf_env_2\\lib\\site-packages (from tensorboard<2.14,>=2.13->tensorflow-intel==2.13.0->tensorflow) (0.7.2)\n",
      "Requirement already satisfied: werkzeug>=1.0.1 in c:\\users\\masla\\anaconda3\\envs\\tf_env_2\\lib\\site-packages (from tensorboard<2.14,>=2.13->tensorflow-intel==2.13.0->tensorflow) (3.0.6)\n",
      "Requirement already satisfied: cachetools<6.0,>=2.0.0 in c:\\users\\masla\\anaconda3\\envs\\tf_env_2\\lib\\site-packages (from google-auth<3,>=1.6.3->tensorboard<2.14,>=2.13->tensorflow-intel==2.13.0->tensorflow) (5.5.2)\n",
      "Requirement already satisfied: pyasn1-modules>=0.2.1 in c:\\users\\masla\\anaconda3\\envs\\tf_env_2\\lib\\site-packages (from google-auth<3,>=1.6.3->tensorboard<2.14,>=2.13->tensorflow-intel==2.13.0->tensorflow) (0.4.2)\n",
      "Requirement already satisfied: rsa<5,>=3.1.4 in c:\\users\\masla\\anaconda3\\envs\\tf_env_2\\lib\\site-packages (from google-auth<3,>=1.6.3->tensorboard<2.14,>=2.13->tensorflow-intel==2.13.0->tensorflow) (4.9.1)\n",
      "Requirement already satisfied: requests-oauthlib>=0.7.0 in c:\\users\\masla\\anaconda3\\envs\\tf_env_2\\lib\\site-packages (from google-auth-oauthlib<1.1,>=0.5->tensorboard<2.14,>=2.13->tensorflow-intel==2.13.0->tensorflow) (2.0.0)\n",
      "Requirement already satisfied: importlib-metadata>=4.4 in c:\\users\\masla\\anaconda3\\envs\\tf_env_2\\lib\\site-packages (from markdown>=2.6.8->tensorboard<2.14,>=2.13->tensorflow-intel==2.13.0->tensorflow) (7.0.1)\n",
      "Requirement already satisfied: charset-normalizer<4,>=2 in c:\\users\\masla\\anaconda3\\envs\\tf_env_2\\lib\\site-packages (from requests<3,>=2.21.0->tensorboard<2.14,>=2.13->tensorflow-intel==2.13.0->tensorflow) (3.3.2)\n",
      "Requirement already satisfied: idna<4,>=2.5 in c:\\users\\masla\\anaconda3\\envs\\tf_env_2\\lib\\site-packages (from requests<3,>=2.21.0->tensorboard<2.14,>=2.13->tensorflow-intel==2.13.0->tensorflow) (3.7)\n",
      "Requirement already satisfied: urllib3<3,>=1.21.1 in c:\\users\\masla\\anaconda3\\envs\\tf_env_2\\lib\\site-packages (from requests<3,>=2.21.0->tensorboard<2.14,>=2.13->tensorflow-intel==2.13.0->tensorflow) (2.2.3)\n",
      "Requirement already satisfied: certifi>=2017.4.17 in c:\\users\\masla\\anaconda3\\envs\\tf_env_2\\lib\\site-packages (from requests<3,>=2.21.0->tensorboard<2.14,>=2.13->tensorflow-intel==2.13.0->tensorflow) (2024.8.30)\n",
      "Requirement already satisfied: MarkupSafe>=2.1.1 in c:\\users\\masla\\anaconda3\\envs\\tf_env_2\\lib\\site-packages (from werkzeug>=1.0.1->tensorboard<2.14,>=2.13->tensorflow-intel==2.13.0->tensorflow) (2.1.3)\n",
      "Requirement already satisfied: zipp>=0.5 in c:\\users\\masla\\anaconda3\\envs\\tf_env_2\\lib\\site-packages (from importlib-metadata>=4.4->markdown>=2.6.8->tensorboard<2.14,>=2.13->tensorflow-intel==2.13.0->tensorflow) (3.20.2)\n",
      "Requirement already satisfied: pyasn1<0.7.0,>=0.6.1 in c:\\users\\masla\\anaconda3\\envs\\tf_env_2\\lib\\site-packages (from pyasn1-modules>=0.2.1->google-auth<3,>=1.6.3->tensorboard<2.14,>=2.13->tensorflow-intel==2.13.0->tensorflow) (0.6.1)\n",
      "Requirement already satisfied: oauthlib>=3.0.0 in c:\\users\\masla\\anaconda3\\envs\\tf_env_2\\lib\\site-packages (from requests-oauthlib>=0.7.0->google-auth-oauthlib<1.1,>=0.5->tensorboard<2.14,>=2.13->tensorflow-intel==2.13.0->tensorflow) (3.3.1)\n",
      "Note: you may need to restart the kernel to use updated packages.\n"
     ]
    }
   ],
   "source": [
    "pip install tensorflow"
   ]
  },
  {
   "cell_type": "code",
   "execution_count": 2,
   "id": "31f30f5a-3277-482b-a18a-eaba0dee3327",
   "metadata": {},
   "outputs": [],
   "source": [
    "import tensorflow as tf"
   ]
  },
  {
   "cell_type": "code",
   "execution_count": 3,
   "id": "ea918731-76eb-4cea-8f51-cdb88f68eac3",
   "metadata": {},
   "outputs": [
    {
     "name": "stdout",
     "output_type": "stream",
     "text": [
      "Requirement already satisfied: matplotlib in c:\\users\\masla\\anaconda3\\envs\\tf_env_2\\lib\\site-packages (3.7.5)\n",
      "Requirement already satisfied: contourpy>=1.0.1 in c:\\users\\masla\\anaconda3\\envs\\tf_env_2\\lib\\site-packages (from matplotlib) (1.1.1)\n",
      "Requirement already satisfied: cycler>=0.10 in c:\\users\\masla\\anaconda3\\envs\\tf_env_2\\lib\\site-packages (from matplotlib) (0.12.1)\n",
      "Requirement already satisfied: fonttools>=4.22.0 in c:\\users\\masla\\anaconda3\\envs\\tf_env_2\\lib\\site-packages (from matplotlib) (4.57.0)\n",
      "Requirement already satisfied: kiwisolver>=1.0.1 in c:\\users\\masla\\anaconda3\\envs\\tf_env_2\\lib\\site-packages (from matplotlib) (1.4.7)\n",
      "Requirement already satisfied: numpy<2,>=1.20 in c:\\users\\masla\\anaconda3\\envs\\tf_env_2\\lib\\site-packages (from matplotlib) (1.24.3)\n",
      "Requirement already satisfied: packaging>=20.0 in c:\\users\\masla\\anaconda3\\envs\\tf_env_2\\lib\\site-packages (from matplotlib) (24.1)\n",
      "Requirement already satisfied: pillow>=6.2.0 in c:\\users\\masla\\anaconda3\\envs\\tf_env_2\\lib\\site-packages (from matplotlib) (10.4.0)\n",
      "Requirement already satisfied: pyparsing>=2.3.1 in c:\\users\\masla\\anaconda3\\envs\\tf_env_2\\lib\\site-packages (from matplotlib) (3.1.4)\n",
      "Requirement already satisfied: python-dateutil>=2.7 in c:\\users\\masla\\anaconda3\\envs\\tf_env_2\\lib\\site-packages (from matplotlib) (2.9.0.post0)\n",
      "Requirement already satisfied: importlib-resources>=3.2.0 in c:\\users\\masla\\anaconda3\\envs\\tf_env_2\\lib\\site-packages (from matplotlib) (6.4.0)\n",
      "Requirement already satisfied: zipp>=3.1.0 in c:\\users\\masla\\anaconda3\\envs\\tf_env_2\\lib\\site-packages (from importlib-resources>=3.2.0->matplotlib) (3.20.2)\n",
      "Requirement already satisfied: six>=1.5 in c:\\users\\masla\\anaconda3\\envs\\tf_env_2\\lib\\site-packages (from python-dateutil>=2.7->matplotlib) (1.16.0)\n",
      "Note: you may need to restart the kernel to use updated packages.\n"
     ]
    }
   ],
   "source": [
    "pip install matplotlib"
   ]
  },
  {
   "cell_type": "code",
   "execution_count": 4,
   "id": "5c738fd7-713c-4324-878a-2c9bd5bfbce2",
   "metadata": {},
   "outputs": [],
   "source": [
    "from tensorflow.keras.preprocessing.image import ImageDataGenerator"
   ]
  },
  {
   "cell_type": "markdown",
   "id": "852a3383-a92a-4049-9498-905a853abe26",
   "metadata": {},
   "source": [
    "Buradda kullanılan ImageGenerator kütüphanesi, resimleri toplu olarak değil de sırasıyla teker teker yükleyerek belleğin daha iyi çalışmasını sağlayacaktır.\n",
    "Bu sayede ImageDataGenerator her seferinde bir resim okuyarak o resim için öz nitelik haritası çıkaracaktır."
   ]
  },
  {
   "cell_type": "markdown",
   "id": "53f4259d-4d90-46e8-a08d-4c4d802d8ca7",
   "metadata": {},
   "source": [
    "# Veri Önişleme"
   ]
  },
  {
   "cell_type": "markdown",
   "id": "fb2ee1f7-2e85-429e-9880-ba17db07d702",
   "metadata": {},
   "source": [
    "## Eğitim setinin önişlenmesi"
   ]
  },
  {
   "cell_type": "code",
   "execution_count": 5,
   "id": "f0244b5f-d81b-4dc6-8634-697971c32309",
   "metadata": {},
   "outputs": [
    {
     "name": "stdout",
     "output_type": "stream",
     "text": [
      "Found 6887 images belonging to 2 classes.\n"
     ]
    }
   ],
   "source": [
    "train_datagen = ImageDataGenerator(rescale=1./255,\n",
    "                                   shear_range=0.2,\n",
    "                                   zoom_range=0.2,\n",
    "                                   horizontal_flip=True)\n",
    "\n",
    "training_set = train_datagen.flow_from_directory('C:/Users/masla/OneDrive/Masaüstü/dataset/train',\n",
    "                                                 target_size=(64, 64),\n",
    "                                                 batch_size=32,\n",
    "                                                 class_mode='binary')"
   ]
  },
  {
   "cell_type": "markdown",
   "id": "6c8a7b87-4f93-467e-81b8-c9f0d34c0139",
   "metadata": {},
   "source": [
    "Burada resimler üzerinde kırpma işlemi uygulanarak 64x64 boyutuna indirgenir. Burada kullanılan parametreler resim işleme ile ilgili parametreleri ifade eder. Batch size'ın büyük olması, daha doğru gradyan değerinin hesaplanmasını sağlamaktadır."
   ]
  },
  {
   "cell_type": "markdown",
   "id": "f57d5eb6-1f12-4543-86b2-70cb0bb7d967",
   "metadata": {},
   "source": [
    "### Test setinin ön işlemesi"
   ]
  },
  {
   "cell_type": "code",
   "execution_count": 6,
   "id": "84e88108-86f2-40bc-8bed-474b5dbf1bbb",
   "metadata": {},
   "outputs": [
    {
     "name": "stdout",
     "output_type": "stream",
     "text": [
      "Found 6887 images belonging to 2 classes.\n"
     ]
    }
   ],
   "source": [
    "test_datagen = ImageDataGenerator(rescale = 1./255)\n",
    "test_set = train_datagen.flow_from_directory('C:/Users/masla/OneDrive/Masaüstü/dataset/train',\n",
    "                                                 target_size=(64, 64),\n",
    "                                                 batch_size=32,\n",
    "                                                 class_mode='binary')"
   ]
  },
  {
   "cell_type": "markdown",
   "id": "f2862e19-dace-42c9-ac58-c892cfa24908",
   "metadata": {},
   "source": [
    "## CNN mimarisinin oluşturulması"
   ]
  },
  {
   "cell_type": "markdown",
   "id": "836f1b59-260a-4258-9413-6256008c6ffe",
   "metadata": {},
   "source": [
    "### Nesne oluşturulması"
   ]
  },
  {
   "cell_type": "code",
   "execution_count": 7,
   "id": "859becbd-fe61-4bdd-96a0-ba196cdb62f5",
   "metadata": {},
   "outputs": [],
   "source": [
    "cnn = tf.keras.models.Sequential()"
   ]
  },
  {
   "cell_type": "markdown",
   "id": "727c2266-6cdc-4aa0-b53a-ea97a43a8504",
   "metadata": {},
   "source": [
    "### 1.Adım - Convolution"
   ]
  },
  {
   "cell_type": "code",
   "execution_count": 8,
   "id": "d837a3db-3497-4b2f-ba8c-15481820f39e",
   "metadata": {},
   "outputs": [],
   "source": [
    "from tensorflow.keras import layers, models\n",
    "\n",
    "cnn = models.Sequential([\n",
    "    layers.Input(shape=(64, 64, 3)),\n",
    "    layers.Conv2D(filters=32, kernel_size=3, activation='relu')\n",
    "])"
   ]
  },
  {
   "cell_type": "markdown",
   "id": "553611c6-9d37-40da-9ecd-6e905c702110",
   "metadata": {},
   "source": [
    "Burada kullanılan Conv2D fonk.nu sayesindeki eldeki datalar 64x64 pixel boyutunda ele alınacaktır. Buradaki 3 parametresi ise resimler renkli olduğu için 3 adet katman oluşturulacaktır."
   ]
  },
  {
   "cell_type": "markdown",
   "id": "aefdb2bf-347e-4a3b-aefa-87e6eee9eac3",
   "metadata": {},
   "source": [
    "### 2.Adım - Pooling"
   ]
  },
  {
   "cell_type": "code",
   "execution_count": 9,
   "id": "bc2bf8de-b80d-45d5-b61e-05bec6b3bf0a",
   "metadata": {},
   "outputs": [],
   "source": [
    "cnn.add(tf.keras.layers.MaxPool2D(pool_size = 2, strides = 2))"
   ]
  },
  {
   "cell_type": "markdown",
   "id": "e20c77eb-92b4-42d2-b1ad-30227f72fd30",
   "metadata": {},
   "source": [
    "Pooling işlemi için MaxPool yöntemi kullanılacaktır. Pool işleminde her seferinde striders 2 olarak belirlenmiştir."
   ]
  },
  {
   "cell_type": "markdown",
   "id": "b7e333e5-7a9c-4b44-8dab-52f48eebfabd",
   "metadata": {},
   "source": [
    "### 3.Adım - 2.Convolutional Layer"
   ]
  },
  {
   "cell_type": "code",
   "execution_count": 10,
   "id": "c8d3058d-b112-412a-a4b8-0f886ed089c2",
   "metadata": {},
   "outputs": [],
   "source": [
    "cnn.add(tf.keras.layers.Conv2D(filters = 32, kernel_size = 3, activation = 'relu'))\n",
    "cnn.add(tf.keras.layers.MaxPool2D(pool_size = 2, strides = 2))"
   ]
  },
  {
   "cell_type": "markdown",
   "id": "4c802805-b0ee-48c1-9364-431d03f98313",
   "metadata": {},
   "source": [
    "### 4.Adım - Flattening"
   ]
  },
  {
   "cell_type": "code",
   "execution_count": 11,
   "id": "0c26ca79-d42a-442b-8180-345bad4d43b2",
   "metadata": {},
   "outputs": [],
   "source": [
    "cnn.add(tf.keras.layers.Flatten())"
   ]
  },
  {
   "cell_type": "markdown",
   "id": "f6d87432-2a72-4e31-9c60-678fe6a36ff8",
   "metadata": {},
   "source": [
    "### 5.Adım - Full Connection"
   ]
  },
  {
   "cell_type": "code",
   "execution_count": 12,
   "id": "2b12c430-8353-41c2-ab84-b423c534b34d",
   "metadata": {},
   "outputs": [],
   "source": [
    "cnn.add(tf.keras.layers.Dense(units = 128, activation = 'relu'))"
   ]
  },
  {
   "cell_type": "markdown",
   "id": "01a29563-3735-423f-87fe-be51be0509c5",
   "metadata": {},
   "source": [
    "Yapay sinir ağında gizli katmanlar ve nöronlar oluşturulur. Aktivasyon fonksiyonu için en sık kullanılan yöntemlerden olan relu fonksiyonu kullanılmıştır. Ne kadar katman olacağı ise units metodu ile 128 olarak belirlenmiştir. Buradaki parametre resimler 64x64 boyutunda olduğu için 128 olarak belirlenmiştir."
   ]
  },
  {
   "cell_type": "markdown",
   "id": "3b61984b-be1d-4d44-8ed9-e06405c9c79f",
   "metadata": {},
   "source": [
    "### 6.Adım - Çıkış Katmanı"
   ]
  },
  {
   "cell_type": "code",
   "execution_count": 13,
   "id": "32e86399-2041-426a-bc88-c929bb6942c1",
   "metadata": {},
   "outputs": [],
   "source": [
    "cnn.add(tf.keras.layers.Dense(units = 1, activation = 'sigmoid'))"
   ]
  },
  {
   "cell_type": "markdown",
   "id": "f288d068-00e3-440e-837f-8dcacf5a22cc",
   "metadata": {},
   "source": [
    "Çıkış katmanı ise sınıflama işlemi yapılacağı için sigmoid olarak belirlenmiştir. Eğer çıktı 1 olarak çıkarsa köpek; 0 olarak çıkarsa kedi çıktısı verecektir."
   ]
  },
  {
   "cell_type": "markdown",
   "id": "073867ea-b70c-4880-9982-c4651e9e8ea6",
   "metadata": {},
   "source": [
    "### Derleme işlemi"
   ]
  },
  {
   "cell_type": "code",
   "execution_count": 14,
   "id": "f24b6333-8323-4221-a29f-22a82d38fbed",
   "metadata": {},
   "outputs": [],
   "source": [
    "cnn.compile(optimizer = 'adam', loss = 'binary_crossentropy', metrics = ['accuracy']) "
   ]
  },
  {
   "cell_type": "markdown",
   "id": "337ed5d0-87bd-44c9-a09a-efd83a2d3202",
   "metadata": {},
   "source": [
    "Son adımda çıkış katmanından optimizer için adam fonksiyonu kullanmıştır. Metric olarak accuracy seçilmiştir."
   ]
  },
  {
   "cell_type": "markdown",
   "id": "6b41ddd3-04ba-4594-acfa-7ad31c252509",
   "metadata": {},
   "source": [
    "### Eğitim işlemi"
   ]
  },
  {
   "cell_type": "code",
   "execution_count": 15,
   "id": "58f355ae-ebf2-4ad8-b81c-02fc56af54cd",
   "metadata": {},
   "outputs": [
    {
     "name": "stdout",
     "output_type": "stream",
     "text": [
      "Requirement already satisfied: scipy in c:\\users\\masla\\anaconda3\\envs\\tf_env_2\\lib\\site-packages (1.10.1)\n",
      "Requirement already satisfied: numpy<1.27.0,>=1.19.5 in c:\\users\\masla\\anaconda3\\envs\\tf_env_2\\lib\\site-packages (from scipy) (1.24.3)\n",
      "Note: you may need to restart the kernel to use updated packages.\n"
     ]
    }
   ],
   "source": [
    "pip install scipy"
   ]
  },
  {
   "cell_type": "code",
   "execution_count": 16,
   "id": "76bf9b38-4065-49b0-8813-6529b1368d8d",
   "metadata": {},
   "outputs": [
    {
     "name": "stdout",
     "output_type": "stream",
     "text": [
      "Requirement already satisfied: pillow in c:\\users\\masla\\anaconda3\\envs\\tf_env_2\\lib\\site-packages (10.4.0)\n"
     ]
    }
   ],
   "source": [
    "!pip install pillow"
   ]
  },
  {
   "cell_type": "code",
   "execution_count": 17,
   "id": "6f83b192-cb6b-4870-a5d5-9b5c0eb04d20",
   "metadata": {},
   "outputs": [
    {
     "name": "stdout",
     "output_type": "stream",
     "text": [
      "Epoch 1/50\n",
      "216/216 [==============================] - 272s 1s/step - loss: 0.6905 - accuracy: 0.5340 - val_loss: 0.6725 - val_accuracy: 0.5844\n",
      "Epoch 2/50\n",
      "216/216 [==============================] - 86s 396ms/step - loss: 0.6641 - accuracy: 0.6091 - val_loss: 0.6334 - val_accuracy: 0.6406\n",
      "Epoch 3/50\n",
      "216/216 [==============================] - 72s 335ms/step - loss: 0.6374 - accuracy: 0.6383 - val_loss: 0.6140 - val_accuracy: 0.6663\n",
      "Epoch 4/50\n",
      "216/216 [==============================] - 72s 333ms/step - loss: 0.6074 - accuracy: 0.6756 - val_loss: 0.5834 - val_accuracy: 0.6833\n",
      "Epoch 5/50\n",
      "216/216 [==============================] - 66s 306ms/step - loss: 0.5830 - accuracy: 0.6914 - val_loss: 0.5494 - val_accuracy: 0.7202\n",
      "Epoch 6/50\n",
      "216/216 [==============================] - 71s 331ms/step - loss: 0.5456 - accuracy: 0.7259 - val_loss: 0.5302 - val_accuracy: 0.7305\n",
      "Epoch 7/50\n",
      "216/216 [==============================] - 78s 361ms/step - loss: 0.5166 - accuracy: 0.7431 - val_loss: 0.4942 - val_accuracy: 0.7595\n",
      "Epoch 8/50\n",
      "216/216 [==============================] - 82s 379ms/step - loss: 0.4909 - accuracy: 0.7652 - val_loss: 0.4771 - val_accuracy: 0.7697\n",
      "Epoch 9/50\n",
      "216/216 [==============================] - 77s 355ms/step - loss: 0.4699 - accuracy: 0.7780 - val_loss: 0.4392 - val_accuracy: 0.7947\n",
      "Epoch 10/50\n",
      "216/216 [==============================] - 70s 325ms/step - loss: 0.4576 - accuracy: 0.7821 - val_loss: 0.4637 - val_accuracy: 0.7838\n",
      "Epoch 11/50\n",
      "216/216 [==============================] - 67s 310ms/step - loss: 0.4389 - accuracy: 0.7951 - val_loss: 0.4073 - val_accuracy: 0.8223\n",
      "Epoch 12/50\n",
      "216/216 [==============================] - 67s 312ms/step - loss: 0.4079 - accuracy: 0.8094 - val_loss: 0.3858 - val_accuracy: 0.8202\n",
      "Epoch 13/50\n",
      "216/216 [==============================] - 69s 321ms/step - loss: 0.4005 - accuracy: 0.8220 - val_loss: 0.3824 - val_accuracy: 0.8245\n",
      "Epoch 14/50\n",
      "216/216 [==============================] - 69s 322ms/step - loss: 0.3771 - accuracy: 0.8271 - val_loss: 0.3480 - val_accuracy: 0.8390\n",
      "Epoch 15/50\n",
      "216/216 [==============================] - 105s 488ms/step - loss: 0.3542 - accuracy: 0.8413 - val_loss: 0.3337 - val_accuracy: 0.8592\n",
      "Epoch 16/50\n",
      "216/216 [==============================] - 136s 631ms/step - loss: 0.3326 - accuracy: 0.8583 - val_loss: 0.3072 - val_accuracy: 0.8645\n",
      "Epoch 17/50\n",
      "216/216 [==============================] - 70s 323ms/step - loss: 0.3207 - accuracy: 0.8631 - val_loss: 0.2912 - val_accuracy: 0.8805\n",
      "Epoch 18/50\n",
      "216/216 [==============================] - 71s 327ms/step - loss: 0.2960 - accuracy: 0.8741 - val_loss: 0.2886 - val_accuracy: 0.8770\n",
      "Epoch 19/50\n",
      "216/216 [==============================] - 67s 313ms/step - loss: 0.2841 - accuracy: 0.8834 - val_loss: 0.2551 - val_accuracy: 0.8965\n",
      "Epoch 20/50\n",
      "216/216 [==============================] - 76s 351ms/step - loss: 0.2753 - accuracy: 0.8814 - val_loss: 0.2405 - val_accuracy: 0.9010\n",
      "Epoch 21/50\n",
      "216/216 [==============================] - 77s 356ms/step - loss: 0.2491 - accuracy: 0.8998 - val_loss: 0.2040 - val_accuracy: 0.9172\n",
      "Epoch 22/50\n",
      "216/216 [==============================] - 81s 374ms/step - loss: 0.2314 - accuracy: 0.9074 - val_loss: 0.2653 - val_accuracy: 0.8860\n",
      "Epoch 23/50\n",
      "216/216 [==============================] - 67s 311ms/step - loss: 0.2210 - accuracy: 0.9130 - val_loss: 0.1872 - val_accuracy: 0.9312\n",
      "Epoch 24/50\n",
      "216/216 [==============================] - 65s 301ms/step - loss: 0.1982 - accuracy: 0.9210 - val_loss: 0.1866 - val_accuracy: 0.9254\n",
      "Epoch 25/50\n",
      "216/216 [==============================] - 64s 295ms/step - loss: 0.1864 - accuracy: 0.9261 - val_loss: 0.1713 - val_accuracy: 0.9336\n",
      "Epoch 26/50\n",
      "216/216 [==============================] - 65s 299ms/step - loss: 0.1821 - accuracy: 0.9286 - val_loss: 0.1626 - val_accuracy: 0.9360\n",
      "Epoch 27/50\n",
      "216/216 [==============================] - 65s 299ms/step - loss: 0.1612 - accuracy: 0.9397 - val_loss: 0.1567 - val_accuracy: 0.9397\n",
      "Epoch 28/50\n",
      "216/216 [==============================] - 65s 302ms/step - loss: 0.1756 - accuracy: 0.9299 - val_loss: 0.1437 - val_accuracy: 0.9453\n",
      "Epoch 29/50\n",
      "216/216 [==============================] - 64s 295ms/step - loss: 0.1547 - accuracy: 0.9365 - val_loss: 0.1556 - val_accuracy: 0.9410\n",
      "Epoch 30/50\n",
      "216/216 [==============================] - 65s 299ms/step - loss: 0.1415 - accuracy: 0.9447 - val_loss: 0.1297 - val_accuracy: 0.9534\n",
      "Epoch 31/50\n",
      "216/216 [==============================] - 64s 294ms/step - loss: 0.1333 - accuracy: 0.9506 - val_loss: 0.1049 - val_accuracy: 0.9633\n",
      "Epoch 32/50\n",
      "216/216 [==============================] - 65s 300ms/step - loss: 0.1221 - accuracy: 0.9530 - val_loss: 0.1078 - val_accuracy: 0.9633\n",
      "Epoch 33/50\n",
      "216/216 [==============================] - 73s 337ms/step - loss: 0.1168 - accuracy: 0.9599 - val_loss: 0.0951 - val_accuracy: 0.9644\n",
      "Epoch 34/50\n",
      "216/216 [==============================] - 78s 360ms/step - loss: 0.1274 - accuracy: 0.9515 - val_loss: 0.1013 - val_accuracy: 0.9646\n",
      "Epoch 35/50\n",
      "216/216 [==============================] - 64s 298ms/step - loss: 0.1096 - accuracy: 0.9566 - val_loss: 0.1129 - val_accuracy: 0.9576\n",
      "Epoch 36/50\n",
      "216/216 [==============================] - 64s 295ms/step - loss: 0.1067 - accuracy: 0.9575 - val_loss: 0.1097 - val_accuracy: 0.9615\n",
      "Epoch 37/50\n",
      "216/216 [==============================] - 65s 299ms/step - loss: 0.1094 - accuracy: 0.9602 - val_loss: 0.0838 - val_accuracy: 0.9702\n",
      "Epoch 38/50\n",
      "216/216 [==============================] - 63s 293ms/step - loss: 0.1056 - accuracy: 0.9621 - val_loss: 0.0809 - val_accuracy: 0.9737\n",
      "Epoch 39/50\n",
      "216/216 [==============================] - 64s 297ms/step - loss: 0.0912 - accuracy: 0.9697 - val_loss: 0.0781 - val_accuracy: 0.9727\n",
      "Epoch 40/50\n",
      "216/216 [==============================] - 65s 301ms/step - loss: 0.0804 - accuracy: 0.9728 - val_loss: 0.0747 - val_accuracy: 0.9766\n",
      "Epoch 41/50\n",
      "216/216 [==============================] - 65s 302ms/step - loss: 0.0907 - accuracy: 0.9657 - val_loss: 0.1006 - val_accuracy: 0.9624\n",
      "Epoch 42/50\n",
      "216/216 [==============================] - 63s 294ms/step - loss: 0.0937 - accuracy: 0.9678 - val_loss: 0.0763 - val_accuracy: 0.9744\n",
      "Epoch 43/50\n",
      "216/216 [==============================] - 64s 299ms/step - loss: 0.0844 - accuracy: 0.9678 - val_loss: 0.0827 - val_accuracy: 0.9694\n",
      "Epoch 44/50\n",
      "216/216 [==============================] - 63s 292ms/step - loss: 0.0802 - accuracy: 0.9726 - val_loss: 0.1034 - val_accuracy: 0.9628\n",
      "Epoch 45/50\n",
      "216/216 [==============================] - 64s 295ms/step - loss: 0.0722 - accuracy: 0.9733 - val_loss: 0.0614 - val_accuracy: 0.9798\n",
      "Epoch 46/50\n",
      "216/216 [==============================] - 63s 293ms/step - loss: 0.0692 - accuracy: 0.9744 - val_loss: 0.0739 - val_accuracy: 0.9734\n",
      "Epoch 47/50\n",
      "216/216 [==============================] - 64s 295ms/step - loss: 0.0864 - accuracy: 0.9697 - val_loss: 0.0674 - val_accuracy: 0.9769\n",
      "Epoch 48/50\n",
      "216/216 [==============================] - 64s 298ms/step - loss: 0.0608 - accuracy: 0.9785 - val_loss: 0.0585 - val_accuracy: 0.9798\n",
      "Epoch 49/50\n",
      "216/216 [==============================] - 64s 299ms/step - loss: 0.0637 - accuracy: 0.9746 - val_loss: 0.0609 - val_accuracy: 0.9794\n",
      "Epoch 50/50\n",
      "216/216 [==============================] - 68s 313ms/step - loss: 0.0624 - accuracy: 0.9773 - val_loss: 0.0691 - val_accuracy: 0.9760\n"
     ]
    },
    {
     "data": {
      "text/plain": [
       "<keras.src.callbacks.History at 0x1e5451ca820>"
      ]
     },
     "execution_count": 17,
     "metadata": {},
     "output_type": "execute_result"
    }
   ],
   "source": [
    "cnn.fit(x = training_set, validation_data = test_set, epochs = 50)"
   ]
  },
  {
   "cell_type": "markdown",
   "id": "e55ce110-a693-47d1-b583-7a80b01c5148",
   "metadata": {},
   "source": [
    "### Tahmin oluşturmak"
   ]
  },
  {
   "cell_type": "code",
   "execution_count": 45,
   "id": "eca321f7-8a98-43d1-9708-0a3139d5bc6c",
   "metadata": {},
   "outputs": [
    {
     "name": "stdout",
     "output_type": "stream",
     "text": [
      "1/1 [==============================] - 0s 72ms/step\n"
     ]
    }
   ],
   "source": [
    "import numpy as np\n",
    "from keras.preprocessing import image\n",
    "test_image = image.load_img('C:/Users/masla/OneDrive/Masaüstü/test/kopek.jpg', target_size = (64,64))\n",
    "test_image = image.img_to_array(test_image)\n",
    "test_image = np.expand_dims(test_image, axis = 0)\n",
    "result = cnn.predict(test_image)\n",
    "training_set.class_indices\n",
    "if result[0][0] == 1:\n",
    "    prediction = 'kopek'\n",
    "else:\n",
    "    prediction = 'kedi'\n",
    "    "
   ]
  },
  {
   "cell_type": "code",
   "execution_count": 46,
   "id": "efce8861-0272-45a2-8b45-7bad1e1c4882",
   "metadata": {},
   "outputs": [
    {
     "name": "stdout",
     "output_type": "stream",
     "text": [
      "kopek\n"
     ]
    }
   ],
   "source": [
    "print(prediction)"
   ]
  }
 ],
 "metadata": {
  "kernelspec": {
   "display_name": "Python [conda env:tf_env_2]",
   "language": "python",
   "name": "conda-env-tf_env_2-py"
  },
  "language_info": {
   "codemirror_mode": {
    "name": "ipython",
    "version": 3
   },
   "file_extension": ".py",
   "mimetype": "text/x-python",
   "name": "python",
   "nbconvert_exporter": "python",
   "pygments_lexer": "ipython3",
   "version": "3.8.20"
  }
 },
 "nbformat": 4,
 "nbformat_minor": 5
}
